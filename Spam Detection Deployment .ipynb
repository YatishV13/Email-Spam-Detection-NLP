{
 "cells": [
  {
   "cell_type": "markdown",
   "id": "42ff12d2",
   "metadata": {},
   "source": [
    "# Project3: Email Spam Detector"
   ]
  },
  {
   "cell_type": "code",
   "execution_count": 3,
   "id": "measured-flash",
   "metadata": {},
   "outputs": [],
   "source": [
    "import numpy as np\n",
    "import pandas as pd \n",
    "import matplotlib.pyplot as  plt \n",
    "import seaborn as sns \n",
    "import warnings \n",
    "warnings.filterwarnings(\"ignore\")"
   ]
  },
  {
   "cell_type": "code",
   "execution_count": 4,
   "id": "identical-activation",
   "metadata": {},
   "outputs": [
    {
     "data": {
      "text/html": [
       "<div>\n",
       "<style scoped>\n",
       "    .dataframe tbody tr th:only-of-type {\n",
       "        vertical-align: middle;\n",
       "    }\n",
       "\n",
       "    .dataframe tbody tr th {\n",
       "        vertical-align: top;\n",
       "    }\n",
       "\n",
       "    .dataframe thead th {\n",
       "        text-align: right;\n",
       "    }\n",
       "</style>\n",
       "<table border=\"1\" class=\"dataframe\">\n",
       "  <thead>\n",
       "    <tr style=\"text-align: right;\">\n",
       "      <th></th>\n",
       "      <th>v1</th>\n",
       "      <th>v2</th>\n",
       "      <th>Unnamed: 2</th>\n",
       "      <th>Unnamed: 3</th>\n",
       "      <th>Unnamed: 4</th>\n",
       "    </tr>\n",
       "  </thead>\n",
       "  <tbody>\n",
       "    <tr>\n",
       "      <th>0</th>\n",
       "      <td>ham</td>\n",
       "      <td>Go until jurong point, crazy.. Available only ...</td>\n",
       "      <td>NaN</td>\n",
       "      <td>NaN</td>\n",
       "      <td>NaN</td>\n",
       "    </tr>\n",
       "    <tr>\n",
       "      <th>1</th>\n",
       "      <td>ham</td>\n",
       "      <td>Ok lar... Joking wif u oni...</td>\n",
       "      <td>NaN</td>\n",
       "      <td>NaN</td>\n",
       "      <td>NaN</td>\n",
       "    </tr>\n",
       "    <tr>\n",
       "      <th>2</th>\n",
       "      <td>spam</td>\n",
       "      <td>Free entry in 2 a wkly comp to win FA Cup fina...</td>\n",
       "      <td>NaN</td>\n",
       "      <td>NaN</td>\n",
       "      <td>NaN</td>\n",
       "    </tr>\n",
       "    <tr>\n",
       "      <th>3</th>\n",
       "      <td>ham</td>\n",
       "      <td>U dun say so early hor... U c already then say...</td>\n",
       "      <td>NaN</td>\n",
       "      <td>NaN</td>\n",
       "      <td>NaN</td>\n",
       "    </tr>\n",
       "    <tr>\n",
       "      <th>4</th>\n",
       "      <td>ham</td>\n",
       "      <td>Nah I don't think he goes to usf, he lives aro...</td>\n",
       "      <td>NaN</td>\n",
       "      <td>NaN</td>\n",
       "      <td>NaN</td>\n",
       "    </tr>\n",
       "  </tbody>\n",
       "</table>\n",
       "</div>"
      ],
      "text/plain": [
       "     v1                                                 v2 Unnamed: 2  \\\n",
       "0   ham  Go until jurong point, crazy.. Available only ...        NaN   \n",
       "1   ham                      Ok lar... Joking wif u oni...        NaN   \n",
       "2  spam  Free entry in 2 a wkly comp to win FA Cup fina...        NaN   \n",
       "3   ham  U dun say so early hor... U c already then say...        NaN   \n",
       "4   ham  Nah I don't think he goes to usf, he lives aro...        NaN   \n",
       "\n",
       "  Unnamed: 3 Unnamed: 4  \n",
       "0        NaN        NaN  \n",
       "1        NaN        NaN  \n",
       "2        NaN        NaN  \n",
       "3        NaN        NaN  \n",
       "4        NaN        NaN  "
      ]
     },
     "execution_count": 4,
     "metadata": {},
     "output_type": "execute_result"
    }
   ],
   "source": [
    "df = pd.read_csv(\"J:\\Courses\\Oasis Infobyte (Internship)\\Projects\\Pro 4 (Email Spam Detection - ML)\\spam.csv\", encoding=\"latin_1\")\n",
    "df.head()"
   ]
  },
  {
   "cell_type": "code",
   "execution_count": 5,
   "id": "imperial-eight",
   "metadata": {},
   "outputs": [],
   "source": [
    "df = df.drop(['Unnamed: 2','Unnamed: 3','Unnamed: 4'],axis = 1)"
   ]
  },
  {
   "cell_type": "code",
   "execution_count": 6,
   "id": "scheduled-needle",
   "metadata": {},
   "outputs": [
    {
     "data": {
      "text/html": [
       "<div>\n",
       "<style scoped>\n",
       "    .dataframe tbody tr th:only-of-type {\n",
       "        vertical-align: middle;\n",
       "    }\n",
       "\n",
       "    .dataframe tbody tr th {\n",
       "        vertical-align: top;\n",
       "    }\n",
       "\n",
       "    .dataframe thead th {\n",
       "        text-align: right;\n",
       "    }\n",
       "</style>\n",
       "<table border=\"1\" class=\"dataframe\">\n",
       "  <thead>\n",
       "    <tr style=\"text-align: right;\">\n",
       "      <th></th>\n",
       "      <th>v1</th>\n",
       "      <th>v2</th>\n",
       "    </tr>\n",
       "  </thead>\n",
       "  <tbody>\n",
       "    <tr>\n",
       "      <th>0</th>\n",
       "      <td>ham</td>\n",
       "      <td>Go until jurong point, crazy.. Available only ...</td>\n",
       "    </tr>\n",
       "    <tr>\n",
       "      <th>1</th>\n",
       "      <td>ham</td>\n",
       "      <td>Ok lar... Joking wif u oni...</td>\n",
       "    </tr>\n",
       "    <tr>\n",
       "      <th>2</th>\n",
       "      <td>spam</td>\n",
       "      <td>Free entry in 2 a wkly comp to win FA Cup fina...</td>\n",
       "    </tr>\n",
       "    <tr>\n",
       "      <th>3</th>\n",
       "      <td>ham</td>\n",
       "      <td>U dun say so early hor... U c already then say...</td>\n",
       "    </tr>\n",
       "    <tr>\n",
       "      <th>4</th>\n",
       "      <td>ham</td>\n",
       "      <td>Nah I don't think he goes to usf, he lives aro...</td>\n",
       "    </tr>\n",
       "  </tbody>\n",
       "</table>\n",
       "</div>"
      ],
      "text/plain": [
       "     v1                                                 v2\n",
       "0   ham  Go until jurong point, crazy.. Available only ...\n",
       "1   ham                      Ok lar... Joking wif u oni...\n",
       "2  spam  Free entry in 2 a wkly comp to win FA Cup fina...\n",
       "3   ham  U dun say so early hor... U c already then say...\n",
       "4   ham  Nah I don't think he goes to usf, he lives aro..."
      ]
     },
     "execution_count": 6,
     "metadata": {},
     "output_type": "execute_result"
    }
   ],
   "source": [
    "df.head()"
   ]
  },
  {
   "cell_type": "markdown",
   "id": "serial-zambia",
   "metadata": {},
   "source": [
    "### changing column names \n"
   ]
  },
  {
   "cell_type": "code",
   "execution_count": 7,
   "id": "spectacular-practitioner",
   "metadata": {},
   "outputs": [],
   "source": [
    "df = df.rename(columns = {'v1':'target' , 'v2':'text'})"
   ]
  },
  {
   "cell_type": "code",
   "execution_count": 8,
   "id": "employed-policy",
   "metadata": {},
   "outputs": [
    {
     "data": {
      "text/html": [
       "<div>\n",
       "<style scoped>\n",
       "    .dataframe tbody tr th:only-of-type {\n",
       "        vertical-align: middle;\n",
       "    }\n",
       "\n",
       "    .dataframe tbody tr th {\n",
       "        vertical-align: top;\n",
       "    }\n",
       "\n",
       "    .dataframe thead th {\n",
       "        text-align: right;\n",
       "    }\n",
       "</style>\n",
       "<table border=\"1\" class=\"dataframe\">\n",
       "  <thead>\n",
       "    <tr style=\"text-align: right;\">\n",
       "      <th></th>\n",
       "      <th>target</th>\n",
       "      <th>text</th>\n",
       "    </tr>\n",
       "  </thead>\n",
       "  <tbody>\n",
       "    <tr>\n",
       "      <th>4860</th>\n",
       "      <td>ham</td>\n",
       "      <td>Nokia phone is lovly..</td>\n",
       "    </tr>\n",
       "    <tr>\n",
       "      <th>5452</th>\n",
       "      <td>ham</td>\n",
       "      <td>What???? Hello wats talks email address?</td>\n",
       "    </tr>\n",
       "    <tr>\n",
       "      <th>2949</th>\n",
       "      <td>ham</td>\n",
       "      <td>Where are you ? You said you would be here whe...</td>\n",
       "    </tr>\n",
       "    <tr>\n",
       "      <th>5505</th>\n",
       "      <td>ham</td>\n",
       "      <td>What i told before i tell. Stupid hear after i...</td>\n",
       "    </tr>\n",
       "    <tr>\n",
       "      <th>2626</th>\n",
       "      <td>ham</td>\n",
       "      <td>Unni thank you dear for the recharge..Rakhesh</td>\n",
       "    </tr>\n",
       "  </tbody>\n",
       "</table>\n",
       "</div>"
      ],
      "text/plain": [
       "     target                                               text\n",
       "4860    ham                             Nokia phone is lovly..\n",
       "5452    ham           What???? Hello wats talks email address?\n",
       "2949    ham  Where are you ? You said you would be here whe...\n",
       "5505    ham  What i told before i tell. Stupid hear after i...\n",
       "2626    ham      Unni thank you dear for the recharge..Rakhesh"
      ]
     },
     "execution_count": 8,
     "metadata": {},
     "output_type": "execute_result"
    }
   ],
   "source": [
    "df.sample(5)"
   ]
  },
  {
   "cell_type": "code",
   "execution_count": 9,
   "id": "479a195d",
   "metadata": {},
   "outputs": [
    {
     "data": {
      "text/plain": [
       "target    0\n",
       "text      0\n",
       "dtype: int64"
      ]
     },
     "execution_count": 9,
     "metadata": {},
     "output_type": "execute_result"
    }
   ],
   "source": [
    "#find if any NaN numbers is there in data\n",
    "df.isnull().sum()"
   ]
  },
  {
   "cell_type": "code",
   "execution_count": 10,
   "id": "d84fded0",
   "metadata": {},
   "outputs": [
    {
     "data": {
      "text/plain": [
       "ham     4825\n",
       "spam     747\n",
       "Name: target, dtype: int64"
      ]
     },
     "execution_count": 10,
     "metadata": {},
     "output_type": "execute_result"
    }
   ],
   "source": [
    "#Count observations in each label\n",
    "df.target.value_counts()"
   ]
  },
  {
   "cell_type": "code",
   "execution_count": null,
   "id": "f5a649ff",
   "metadata": {},
   "outputs": [],
   "source": []
  },
  {
   "cell_type": "markdown",
   "id": "significant-second",
   "metadata": {},
   "source": [
    "### EDA Part"
   ]
  },
  {
   "cell_type": "code",
   "execution_count": 11,
   "id": "massive-religious",
   "metadata": {},
   "outputs": [
    {
     "data": {
      "text/plain": [
       "<Axes: ylabel='target'>"
      ]
     },
     "execution_count": 11,
     "metadata": {},
     "output_type": "execute_result"
    },
    {
     "data": {
      "image/png": "[encoded data removed]",
      "text/plain": [
       "<Figure size 500x500 with 1 Axes>"
      ]
     },
     "metadata": {},
     "output_type": "display_data"
    }
   ],
   "source": [
    "plt.figure(figsize = (5,5))\n",
    "df['target'].value_counts().plot(kind = 'pie',autopct = '%1.1f%%')"
   ]
  },
  {
   "cell_type": "markdown",
   "id": "appropriate-conservative",
   "metadata": {},
   "source": [
    "#### Only Spam data "
   ]
  },
  {
   "cell_type": "code",
   "execution_count": 12,
   "id": "wound-queen",
   "metadata": {},
   "outputs": [
    {
     "data": {
      "text/plain": [
       "ham     4825\n",
       "spam     747\n",
       "Name: target, dtype: int64"
      ]
     },
     "execution_count": 12,
     "metadata": {},
     "output_type": "execute_result"
    }
   ],
   "source": [
    "df['target'].value_counts()"
   ]
  },
  {
   "cell_type": "code",
   "execution_count": 13,
   "id": "historical-inspection",
   "metadata": {},
   "outputs": [
    {
     "data": {
      "text/plain": [
       "2       Free entry in 2 a wkly comp to win FA Cup fina...\n",
       "4744    Camera - You are awarded a SiPix Digital Camer...\n",
       "3753    Bloomberg -Message center +447797706009 Why wa...\n",
       "1672    URGENT! We are trying to contact U. Todays dra...\n",
       "610     22 days to kick off! For Euro2004 U will be ke...\n",
       "Name: text, dtype: object"
      ]
     },
     "execution_count": 13,
     "metadata": {},
     "output_type": "execute_result"
    }
   ],
   "source": [
    "spam = df.loc[df['target'] == 'spam']\n",
    "spam['text'].sample(5)"
   ]
  },
  {
   "cell_type": "markdown",
   "id": "cognitive-lawsuit",
   "metadata": {},
   "source": [
    "### only ham data "
   ]
  },
  {
   "cell_type": "code",
   "execution_count": 14,
   "id": "peripheral-parking",
   "metadata": {},
   "outputs": [
    {
     "data": {
      "text/plain": [
       "3240      Ok i've sent u da latest version of da project.\n",
       "1944    Yeah, I'll leave in a couple minutes &amp; let...\n",
       "4239    The LAY MAN! Just to let you know you are miss...\n",
       "3646    Hey babe, my friend had to cancel, still up fo...\n",
       "3726        Aldrine, rakhesh ex RTM here.pls call.urgent.\n",
       "Name: text, dtype: object"
      ]
     },
     "execution_count": 14,
     "metadata": {},
     "output_type": "execute_result"
    }
   ],
   "source": [
    "ham = df.loc[df['target'] == 'ham']\n",
    "ham['text'].sample(5)"
   ]
  },
  {
   "cell_type": "markdown",
   "id": "differential-politics",
   "metadata": {},
   "source": [
    "## Preprocessing "
   ]
  },
  {
   "cell_type": "code",
   "execution_count": 15,
   "id": "norwegian-scientist",
   "metadata": {},
   "outputs": [
    {
     "data": {
      "text/plain": [
       "5572"
      ]
     },
     "execution_count": 15,
     "metadata": {},
     "output_type": "execute_result"
    }
   ],
   "source": [
    "len(df)"
   ]
  },
  {
   "cell_type": "code",
   "execution_count": 16,
   "id": "fiscal-devices",
   "metadata": {},
   "outputs": [],
   "source": [
    "import nltk\n",
    "import sklearn "
   ]
  },
  {
   "cell_type": "code",
   "execution_count": 17,
   "id": "taken-eclipse",
   "metadata": {},
   "outputs": [],
   "source": [
    "from nltk.tokenize import word_tokenize , sent_tokenize\n",
    "from nltk.corpus import stopwords\n",
    "from nltk.stem import PorterStemmer,WordNetLemmatizer\n",
    "from sklearn.model_selection import train_test_split"
   ]
  },
  {
   "cell_type": "code",
   "execution_count": 18,
   "id": "identified-satisfaction",
   "metadata": {},
   "outputs": [],
   "source": [
    "stemming_var = PorterStemmer()"
   ]
  },
  {
   "cell_type": "code",
   "execution_count": 19,
   "id": "metric-minority",
   "metadata": {},
   "outputs": [
    {
     "name": "stderr",
     "output_type": "stream",
     "text": [
      "[nltk_data] Downloading package wordnet to\n",
      "[nltk_data]     C:\\Users\\Asus\\AppData\\Roaming\\nltk_data...\n",
      "[nltk_data]   Package wordnet is already up-to-date!\n"
     ]
    },
    {
     "data": {
      "text/plain": [
       "True"
      ]
     },
     "execution_count": 19,
     "metadata": {},
     "output_type": "execute_result"
    }
   ],
   "source": [
    "nltk.download('wordnet')"
   ]
  },
  {
   "cell_type": "code",
   "execution_count": 20,
   "id": "remarkable-picnic",
   "metadata": {},
   "outputs": [],
   "source": [
    "Lemmatization_var = WordNetLemmatizer()"
   ]
  },
  {
   "cell_type": "code",
   "execution_count": 21,
   "id": "infrared-instruction",
   "metadata": {},
   "outputs": [
    {
     "name": "stdout",
     "output_type": "stream",
     "text": [
      "['i', 'me', 'my', 'myself', 'we', 'our', 'ours', 'ourselves', 'you', \"you're\", \"you've\", \"you'll\", \"you'd\", 'your', 'yours', 'yourself', 'yourselves', 'he', 'him', 'his', 'himself', 'she', \"she's\", 'her', 'hers', 'herself', 'it', \"it's\", 'its', 'itself', 'they', 'them', 'their', 'theirs', 'themselves', 'what', 'which', 'who', 'whom', 'this', 'that', \"that'll\", 'these', 'those', 'am', 'is', 'are', 'was', 'were', 'be', 'been', 'being', 'have', 'has', 'had', 'having', 'do', 'does', 'did', 'doing', 'a', 'an', 'the', 'and', 'but', 'if', 'or', 'because', 'as', 'until', 'while', 'of', 'at', 'by', 'for', 'with', 'about', 'against', 'between', 'into', 'through', 'during', 'before', 'after', 'above', 'below', 'to', 'from', 'up', 'down', 'in', 'out', 'on', 'off', 'over', 'under', 'again', 'further', 'then', 'once', 'here', 'there', 'when', 'where', 'why', 'how', 'all', 'any', 'both', 'each', 'few', 'more', 'most', 'other', 'some', 'such', 'no', 'nor', 'not', 'only', 'own', 'same', 'so', 'than', 'too', 'very', 's', 't', 'can', 'will', 'just', 'don', \"don't\", 'should', \"should've\", 'now', 'd', 'll', 'm', 'o', 're', 've', 'y', 'ain', 'aren', \"aren't\", 'couldn', \"couldn't\", 'didn', \"didn't\", 'doesn', \"doesn't\", 'hadn', \"hadn't\", 'hasn', \"hasn't\", 'haven', \"haven't\", 'isn', \"isn't\", 'ma', 'mightn', \"mightn't\", 'mustn', \"mustn't\", 'needn', \"needn't\", 'shan', \"shan't\", 'shouldn', \"shouldn't\", 'wasn', \"wasn't\", 'weren', \"weren't\", 'won', \"won't\", 'wouldn', \"wouldn't\"]\n"
     ]
    }
   ],
   "source": [
    "print(stopwords.words('english'))"
   ]
  },
  {
   "cell_type": "code",
   "execution_count": 22,
   "id": "appropriate-executive",
   "metadata": {},
   "outputs": [],
   "source": [
    "import re \n",
    "cleaned_data = []\n",
    "for i in range(len(df)):\n",
    "    result = re.sub(\"[^a-zA-Z0-9]\",' ',df['text'][i])\n",
    "    result = result.lower()\n",
    "    result = result.split()\n",
    "    result = [Lemmatization_var.lemmatize(word)  for word in result if not word in stopwords.words(\"english\")]\n",
    "    result = ' '.join(result)\n",
    "    cleaned_data.append(result)\n",
    "    "
   ]
  },
  {
   "cell_type": "code",
   "execution_count": 23,
   "id": "applicable-hunger",
   "metadata": {},
   "outputs": [
    {
     "data": {
      "text/plain": [
       "'go jurong point crazy available bugis n great world la e buffet cine got amore wat'"
      ]
     },
     "execution_count": 23,
     "metadata": {},
     "output_type": "execute_result"
    }
   ],
   "source": [
    "cleaned_data[0]"
   ]
  },
  {
   "cell_type": "code",
   "execution_count": 24,
   "id": "posted-baptist",
   "metadata": {},
   "outputs": [],
   "source": [
    "df['cleaned_data'] = cleaned_data"
   ]
  },
  {
   "cell_type": "code",
   "execution_count": 25,
   "id": "bound-bankruptcy",
   "metadata": {},
   "outputs": [
    {
     "data": {
      "text/html": [
       "<div>\n",
       "<style scoped>\n",
       "    .dataframe tbody tr th:only-of-type {\n",
       "        vertical-align: middle;\n",
       "    }\n",
       "\n",
       "    .dataframe tbody tr th {\n",
       "        vertical-align: top;\n",
       "    }\n",
       "\n",
       "    .dataframe thead th {\n",
       "        text-align: right;\n",
       "    }\n",
       "</style>\n",
       "<table border=\"1\" class=\"dataframe\">\n",
       "  <thead>\n",
       "    <tr style=\"text-align: right;\">\n",
       "      <th></th>\n",
       "      <th>target</th>\n",
       "      <th>text</th>\n",
       "      <th>cleaned_data</th>\n",
       "    </tr>\n",
       "  </thead>\n",
       "  <tbody>\n",
       "    <tr>\n",
       "      <th>0</th>\n",
       "      <td>ham</td>\n",
       "      <td>Go until jurong point, crazy.. Available only ...</td>\n",
       "      <td>go jurong point crazy available bugis n great ...</td>\n",
       "    </tr>\n",
       "    <tr>\n",
       "      <th>1</th>\n",
       "      <td>ham</td>\n",
       "      <td>Ok lar... Joking wif u oni...</td>\n",
       "      <td>ok lar joking wif u oni</td>\n",
       "    </tr>\n",
       "    <tr>\n",
       "      <th>2</th>\n",
       "      <td>spam</td>\n",
       "      <td>Free entry in 2 a wkly comp to win FA Cup fina...</td>\n",
       "      <td>free entry 2 wkly comp win fa cup final tkts 2...</td>\n",
       "    </tr>\n",
       "    <tr>\n",
       "      <th>3</th>\n",
       "      <td>ham</td>\n",
       "      <td>U dun say so early hor... U c already then say...</td>\n",
       "      <td>u dun say early hor u c already say</td>\n",
       "    </tr>\n",
       "    <tr>\n",
       "      <th>4</th>\n",
       "      <td>ham</td>\n",
       "      <td>Nah I don't think he goes to usf, he lives aro...</td>\n",
       "      <td>nah think go usf life around though</td>\n",
       "    </tr>\n",
       "  </tbody>\n",
       "</table>\n",
       "</div>"
      ],
      "text/plain": [
       "  target                                               text  \\\n",
       "0    ham  Go until jurong point, crazy.. Available only ...   \n",
       "1    ham                      Ok lar... Joking wif u oni...   \n",
       "2   spam  Free entry in 2 a wkly comp to win FA Cup fina...   \n",
       "3    ham  U dun say so early hor... U c already then say...   \n",
       "4    ham  Nah I don't think he goes to usf, he lives aro...   \n",
       "\n",
       "                                        cleaned_data  \n",
       "0  go jurong point crazy available bugis n great ...  \n",
       "1                            ok lar joking wif u oni  \n",
       "2  free entry 2 wkly comp win fa cup final tkts 2...  \n",
       "3                u dun say early hor u c already say  \n",
       "4                nah think go usf life around though  "
      ]
     },
     "execution_count": 25,
     "metadata": {},
     "output_type": "execute_result"
    }
   ],
   "source": [
    "df.head()"
   ]
  },
  {
   "cell_type": "code",
   "execution_count": 26,
   "id": "finished-marketing",
   "metadata": {},
   "outputs": [],
   "source": [
    "df = df.drop(['text'],axis = 1)"
   ]
  },
  {
   "cell_type": "code",
   "execution_count": 27,
   "id": "naked-court",
   "metadata": {},
   "outputs": [
    {
     "data": {
      "text/plain": [
       "Index(['target', 'cleaned_data'], dtype='object')"
      ]
     },
     "execution_count": 27,
     "metadata": {},
     "output_type": "execute_result"
    }
   ],
   "source": [
    "df.columns"
   ]
  },
  {
   "cell_type": "markdown",
   "id": "3c3081d3",
   "metadata": {},
   "source": [
    "#### convert label to a numerical variable"
   ]
  },
  {
   "cell_type": "code",
   "execution_count": 28,
   "id": "satisfactory-february",
   "metadata": {},
   "outputs": [],
   "source": [
    "df['target'] = df['target'].map({'ham':0 , 'spam':1}).astype(int)"
   ]
  },
  {
   "cell_type": "code",
   "execution_count": 29,
   "id": "stylish-junction",
   "metadata": {},
   "outputs": [
    {
     "data": {
      "text/plain": [
       "0    4825\n",
       "1     747\n",
       "Name: target, dtype: int64"
      ]
     },
     "execution_count": 29,
     "metadata": {},
     "output_type": "execute_result"
    }
   ],
   "source": [
    "df.target.value_counts()"
   ]
  },
  {
   "cell_type": "code",
   "execution_count": 30,
   "id": "through-afternoon",
   "metadata": {},
   "outputs": [],
   "source": [
    "from sklearn.feature_extraction.text import CountVectorizer"
   ]
  },
  {
   "cell_type": "code",
   "execution_count": 31,
   "id": "skilled-edward",
   "metadata": {},
   "outputs": [],
   "source": [
    "Co = CountVectorizer()"
   ]
  },
  {
   "cell_type": "code",
   "execution_count": 32,
   "id": "third-seven",
   "metadata": {},
   "outputs": [],
   "source": [
    "X = df['cleaned_data']\n",
    "y = df['target']"
   ]
  },
  {
   "cell_type": "code",
   "execution_count": 33,
   "id": "neural-comparison",
   "metadata": {},
   "outputs": [
    {
     "data": {
      "text/plain": [
       "0    go jurong point crazy available bugis n great ...\n",
       "1                              ok lar joking wif u oni\n",
       "2    free entry 2 wkly comp win fa cup final tkts 2...\n",
       "3                  u dun say early hor u c already say\n",
       "4                  nah think go usf life around though\n",
       "Name: cleaned_data, dtype: object"
      ]
     },
     "execution_count": 33,
     "metadata": {},
     "output_type": "execute_result"
    }
   ],
   "source": [
    "X.head()"
   ]
  },
  {
   "cell_type": "code",
   "execution_count": 34,
   "id": "standing-chicken",
   "metadata": {},
   "outputs": [
    {
     "data": {
      "text/plain": [
       "0    0\n",
       "1    0\n",
       "2    1\n",
       "3    0\n",
       "4    0\n",
       "Name: target, dtype: int32"
      ]
     },
     "execution_count": 34,
     "metadata": {},
     "output_type": "execute_result"
    }
   ],
   "source": [
    "y.head()"
   ]
  },
  {
   "cell_type": "code",
   "execution_count": 35,
   "id": "fuzzy-barbados",
   "metadata": {},
   "outputs": [],
   "source": [
    "X_train , X_test , y_train , y_test = train_test_split(X,y,test_size= 0.33 , random_state = 42)"
   ]
  },
  {
   "cell_type": "code",
   "execution_count": 36,
   "id": "processed-difference",
   "metadata": {},
   "outputs": [
    {
     "data": {
      "text/plain": [
       "3235    aight text back mu swing need somebody get door\n",
       "945                          cant wait see photo useful\n",
       "5319                            kothi print marandratha\n",
       "5528                           effect irritation ignore\n",
       "247                          kallis wont bat 2nd inning\n",
       "Name: cleaned_data, dtype: object"
      ]
     },
     "execution_count": 36,
     "metadata": {},
     "output_type": "execute_result"
    }
   ],
   "source": [
    "X_train.head()"
   ]
  },
  {
   "cell_type": "code",
   "execution_count": 37,
   "id": "planned-inspection",
   "metadata": {},
   "outputs": [],
   "source": [
    "X_train = Co.fit_transform(X_train)"
   ]
  },
  {
   "cell_type": "code",
   "execution_count": 38,
   "id": "distinct-judges",
   "metadata": {},
   "outputs": [
    {
     "data": {
      "text/plain": [
       "array([[0, 0, 0, ..., 0, 0, 0],\n",
       "       [0, 0, 0, ..., 0, 0, 0],\n",
       "       [0, 0, 0, ..., 0, 0, 0],\n",
       "       ...,\n",
       "       [0, 0, 0, ..., 0, 0, 0],\n",
       "       [0, 0, 0, ..., 0, 0, 0],\n",
       "       [0, 0, 0, ..., 0, 0, 0]], dtype=int64)"
      ]
     },
     "execution_count": 38,
     "metadata": {},
     "output_type": "execute_result"
    }
   ],
   "source": [
    "X_train.toarray()"
   ]
  },
  {
   "cell_type": "code",
   "execution_count": 39,
   "id": "proprietary-damage",
   "metadata": {},
   "outputs": [
    {
     "data": {
      "text/plain": [
       "(3733, 6470)"
      ]
     },
     "execution_count": 39,
     "metadata": {},
     "output_type": "execute_result"
    }
   ],
   "source": [
    "X_train.shape"
   ]
  },
  {
   "cell_type": "code",
   "execution_count": 40,
   "id": "german-fireplace",
   "metadata": {},
   "outputs": [
    {
     "data": {
      "text/plain": [
       "<1x6470 sparse matrix of type '<class 'numpy.int64'>'\n",
       "\twith 9 stored elements in Compressed Sparse Row format>"
      ]
     },
     "execution_count": 40,
     "metadata": {},
     "output_type": "execute_result"
    }
   ],
   "source": [
    "X_train[0]"
   ]
  },
  {
   "cell_type": "code",
   "execution_count": 41,
   "id": "allied-mainstream",
   "metadata": {},
   "outputs": [],
   "source": [
    "X_test = Co.transform(X_test)"
   ]
  },
  {
   "cell_type": "code",
   "execution_count": 42,
   "id": "appropriate-qatar",
   "metadata": {},
   "outputs": [
    {
     "data": {
      "text/plain": [
       "array([[0, 0, 0, ..., 0, 0, 0],\n",
       "       [0, 0, 0, ..., 0, 0, 0],\n",
       "       [0, 0, 0, ..., 0, 0, 0],\n",
       "       ...,\n",
       "       [0, 0, 0, ..., 0, 0, 0],\n",
       "       [0, 0, 0, ..., 0, 0, 0],\n",
       "       [0, 0, 0, ..., 0, 0, 0]], dtype=int64)"
      ]
     },
     "execution_count": 42,
     "metadata": {},
     "output_type": "execute_result"
    }
   ],
   "source": [
    "X_test.toarray()"
   ]
  },
  {
   "cell_type": "code",
   "execution_count": 43,
   "id": "early-balloon",
   "metadata": {},
   "outputs": [
    {
     "data": {
      "text/plain": [
       "(1839, 6470)"
      ]
     },
     "execution_count": 43,
     "metadata": {},
     "output_type": "execute_result"
    }
   ],
   "source": [
    "X_test.shape"
   ]
  },
  {
   "cell_type": "code",
   "execution_count": 44,
   "id": "indirect-screw",
   "metadata": {},
   "outputs": [],
   "source": [
    "from sklearn.naive_bayes import MultinomialNB"
   ]
  },
  {
   "cell_type": "code",
   "execution_count": 45,
   "id": "nominated-bowling",
   "metadata": {},
   "outputs": [],
   "source": [
    "ml = MultinomialNB()"
   ]
  },
  {
   "cell_type": "code",
   "execution_count": 46,
   "id": "careful-exhibition",
   "metadata": {},
   "outputs": [
    {
     "data": {
      "text/html": [
       "<style>#sk-container-id-1 {color: black;background-color: white;}#sk-container-id-1 pre{padding: 0;}#sk-container-id-1 div.sk-toggleable {background-color: white;}#sk-container-id-1 label.sk-toggleable__label {cursor: pointer;display: block;width: 100%;margin-bottom: 0;padding: 0.3em;box-sizing: border-box;text-align: center;}#sk-container-id-1 label.sk-toggleable__label-arrow:before {content: \"▸\";float: left;margin-right: 0.25em;color: #696969;}#sk-container-id-1 label.sk-toggleable__label-arrow:hover:before {color: black;}#sk-container-id-1 div.sk-estimator:hover label.sk-toggleable__label-arrow:before {color: black;}#sk-container-id-1 div.sk-toggleable__content {max-height: 0;max-width: 0;overflow: hidden;text-align: left;background-color: #f0f8ff;}#sk-container-id-1 div.sk-toggleable__content pre {margin: 0.2em;color: black;border-radius: 0.25em;background-color: #f0f8ff;}#sk-container-id-1 input.sk-toggleable__control:checked~div.sk-toggleable__content {max-height: 200px;max-width: 100%;overflow: auto;}#sk-container-id-1 input.sk-toggleable__control:checked~label.sk-toggleable__label-arrow:before {content: \"▾\";}#sk-container-id-1 div.sk-estimator input.sk-toggleable__control:checked~label.sk-toggleable__label {background-color: #d4ebff;}#sk-container-id-1 div.sk-label input.sk-toggleable__control:checked~label.sk-toggleable__label {background-color: #d4ebff;}#sk-container-id-1 input.sk-hidden--visually {border: 0;clip: rect(1px 1px 1px 1px);clip: rect(1px, 1px, 1px, 1px);height: 1px;margin: -1px;overflow: hidden;padding: 0;position: absolute;width: 1px;}#sk-container-id-1 div.sk-estimator {font-family: monospace;background-color: #f0f8ff;border: 1px dotted black;border-radius: 0.25em;box-sizing: border-box;margin-bottom: 0.5em;}#sk-container-id-1 div.sk-estimator:hover {background-color: #d4ebff;}#sk-container-id-1 div.sk-parallel-item::after {content: \"\";width: 100%;border-bottom: 1px solid gray;flex-grow: 1;}#sk-container-id-1 div.sk-label:hover label.sk-toggleable__label {background-color: #d4ebff;}#sk-container-id-1 div.sk-serial::before {content: \"\";position: absolute;border-left: 1px solid gray;box-sizing: border-box;top: 0;bottom: 0;left: 50%;z-index: 0;}#sk-container-id-1 div.sk-serial {display: flex;flex-direction: column;align-items: center;background-color: white;padding-right: 0.2em;padding-left: 0.2em;position: relative;}#sk-container-id-1 div.sk-item {position: relative;z-index: 1;}#sk-container-id-1 div.sk-parallel {display: flex;align-items: stretch;justify-content: center;background-color: white;position: relative;}#sk-container-id-1 div.sk-item::before, #sk-container-id-1 div.sk-parallel-item::before {content: \"\";position: absolute;border-left: 1px solid gray;box-sizing: border-box;top: 0;bottom: 0;left: 50%;z-index: -1;}#sk-container-id-1 div.sk-parallel-item {display: flex;flex-direction: column;z-index: 1;position: relative;background-color: white;}#sk-container-id-1 div.sk-parallel-item:first-child::after {align-self: flex-end;width: 50%;}#sk-container-id-1 div.sk-parallel-item:last-child::after {align-self: flex-start;width: 50%;}#sk-container-id-1 div.sk-parallel-item:only-child::after {width: 0;}#sk-container-id-1 div.sk-dashed-wrapped {border: 1px dashed gray;margin: 0 0.4em 0.5em 0.4em;box-sizing: border-box;padding-bottom: 0.4em;background-color: white;}#sk-container-id-1 div.sk-label label {font-family: monospace;font-weight: bold;display: inline-block;line-height: 1.2em;}#sk-container-id-1 div.sk-label-container {text-align: center;}#sk-container-id-1 div.sk-container {/* jupyter's `normalize.less` sets `[hidden] { display: none; }` but bootstrap.min.css set `[hidden] { display: none !important; }` so we also need the `!important` here to be able to override the default hidden behavior on the sphinx rendered scikit-learn.org. See: https://github.com/scikit-learn/scikit-learn/issues/21755 */display: inline-block !important;position: relative;}#sk-container-id-1 div.sk-text-repr-fallback {display: none;}</style><div id=\"sk-container-id-1\" class=\"sk-top-container\"><div class=\"sk-text-repr-fallback\"><pre>MultinomialNB()</pre><b>In a Jupyter environment, please rerun this cell to show the HTML representation or trust the notebook. <br />On GitHub, the HTML representation is unable to render, please try loading this page with nbviewer.org.</b></div><div class=\"sk-container\" hidden><div class=\"sk-item\"><div class=\"sk-estimator sk-toggleable\"><input class=\"sk-toggleable__control sk-hidden--visually\" id=\"sk-estimator-id-1\" type=\"checkbox\" checked><label for=\"sk-estimator-id-1\" class=\"sk-toggleable__label sk-toggleable__label-arrow\">MultinomialNB</label><div class=\"sk-toggleable__content\"><pre>MultinomialNB()</pre></div></div></div></div></div>"
      ],
      "text/plain": [
       "MultinomialNB()"
      ]
     },
     "execution_count": 46,
     "metadata": {},
     "output_type": "execute_result"
    }
   ],
   "source": [
    "ml.fit(X_train,y_train)"
   ]
  },
  {
   "cell_type": "code",
   "execution_count": 47,
   "id": "magnetic-suspension",
   "metadata": {},
   "outputs": [],
   "source": [
    "from sklearn.metrics import accuracy_score,classification_report,confusion_matrix"
   ]
  },
  {
   "cell_type": "code",
   "execution_count": 48,
   "id": "false-dublin",
   "metadata": {},
   "outputs": [
    {
     "data": {
      "text/plain": [
       "0.994374497723011"
      ]
     },
     "execution_count": 48,
     "metadata": {},
     "output_type": "execute_result"
    }
   ],
   "source": [
    "ml.score(X_train,y_train)"
   ]
  },
  {
   "cell_type": "code",
   "execution_count": 49,
   "id": "solid-enzyme",
   "metadata": {},
   "outputs": [
    {
     "data": {
      "text/plain": [
       "0.9793365959760739"
      ]
     },
     "execution_count": 49,
     "metadata": {},
     "output_type": "execute_result"
    }
   ],
   "source": [
    "ml.score(X_test,y_test)"
   ]
  },
  {
   "cell_type": "markdown",
   "id": "moderate-advantage",
   "metadata": {},
   "source": [
    "### Balancing the data "
   ]
  },
  {
   "cell_type": "code",
   "execution_count": 50,
   "id": "backed-genealogy",
   "metadata": {},
   "outputs": [
    {
     "data": {
      "text/html": [
       "<div>\n",
       "<style scoped>\n",
       "    .dataframe tbody tr th:only-of-type {\n",
       "        vertical-align: middle;\n",
       "    }\n",
       "\n",
       "    .dataframe tbody tr th {\n",
       "        vertical-align: top;\n",
       "    }\n",
       "\n",
       "    .dataframe thead th {\n",
       "        text-align: right;\n",
       "    }\n",
       "</style>\n",
       "<table border=\"1\" class=\"dataframe\">\n",
       "  <thead>\n",
       "    <tr style=\"text-align: right;\">\n",
       "      <th></th>\n",
       "      <th>target</th>\n",
       "      <th>cleaned_data</th>\n",
       "    </tr>\n",
       "  </thead>\n",
       "  <tbody>\n",
       "    <tr>\n",
       "      <th>0</th>\n",
       "      <td>0</td>\n",
       "      <td>go jurong point crazy available bugis n great ...</td>\n",
       "    </tr>\n",
       "    <tr>\n",
       "      <th>1</th>\n",
       "      <td>0</td>\n",
       "      <td>ok lar joking wif u oni</td>\n",
       "    </tr>\n",
       "    <tr>\n",
       "      <th>2</th>\n",
       "      <td>1</td>\n",
       "      <td>free entry 2 wkly comp win fa cup final tkts 2...</td>\n",
       "    </tr>\n",
       "    <tr>\n",
       "      <th>3</th>\n",
       "      <td>0</td>\n",
       "      <td>u dun say early hor u c already say</td>\n",
       "    </tr>\n",
       "    <tr>\n",
       "      <th>4</th>\n",
       "      <td>0</td>\n",
       "      <td>nah think go usf life around though</td>\n",
       "    </tr>\n",
       "  </tbody>\n",
       "</table>\n",
       "</div>"
      ],
      "text/plain": [
       "   target                                       cleaned_data\n",
       "0       0  go jurong point crazy available bugis n great ...\n",
       "1       0                            ok lar joking wif u oni\n",
       "2       1  free entry 2 wkly comp win fa cup final tkts 2...\n",
       "3       0                u dun say early hor u c already say\n",
       "4       0                nah think go usf life around though"
      ]
     },
     "execution_count": 50,
     "metadata": {},
     "output_type": "execute_result"
    }
   ],
   "source": [
    "df.head()"
   ]
  },
  {
   "cell_type": "markdown",
   "id": "silver-syndication",
   "metadata": {},
   "source": [
    "### Downsampling "
   ]
  },
  {
   "cell_type": "code",
   "execution_count": 51,
   "id": "divine-membrane",
   "metadata": {},
   "outputs": [],
   "source": [
    "from imblearn.under_sampling import NearMiss"
   ]
  },
  {
   "cell_type": "code",
   "execution_count": 52,
   "id": "suspected-headquarters",
   "metadata": {},
   "outputs": [
    {
     "name": "stdout",
     "output_type": "stream",
     "text": [
      "Labels count for ham 0 = 3238 \n",
      "Labels count for spam 1 = 495 \n",
      "\n",
      "Labels count for test ham 0 = 1587 \n",
      "Labels count for test spam 1 = 252 \n",
      "\n",
      "Labels count after for train ham 0 = 495 \n",
      "Labels count after for train spam 1 = 495 \n",
      "\n",
      "Labels count after for test ham 0 = 252 \n",
      "Labels count after for test spam 1 = 252 \n"
     ]
    }
   ],
   "source": [
    "print(\"Labels count for ham 0 = {} \".format(sum(y_train == 0)))\n",
    "print(\"Labels count for spam 1 = {} \".format(sum(y_train == 1)))\n",
    "\n",
    "print()\n",
    "print(\"Labels count for test ham 0 = {} \".format(sum(y_test == 0)))\n",
    "print(\"Labels count for test spam 1 = {} \".format(sum(y_test == 1)))\n",
    "\n",
    "\n",
    "undersample = NearMiss(version=1, n_neighbors=3)\n",
    "\n",
    "X_train_res , y_train_res = undersample.fit_resample(X_train,y_train)\n",
    "X_test_res , y_test_res = undersample.fit_resample(X_test,y_test)\n",
    "\n",
    "print()\n",
    "\n",
    "print(\"Labels count after for train ham 0 = {} \".format(sum(y_train_res == 0)))\n",
    "print(\"Labels count after for train spam 1 = {} \".format(sum(y_train_res == 1)))\n",
    "\n",
    "print()\n",
    "print(\"Labels count after for test ham 0 = {} \".format(sum(y_test_res == 0)))\n",
    "print(\"Labels count after for test spam 1 = {} \".format(sum(y_test_res == 1)))\n"
   ]
  },
  {
   "cell_type": "code",
   "execution_count": 53,
   "id": "incorporate-howard",
   "metadata": {},
   "outputs": [
    {
     "data": {
      "text/plain": [
       "0.9454545454545454"
      ]
     },
     "execution_count": 53,
     "metadata": {},
     "output_type": "execute_result"
    }
   ],
   "source": [
    "mt = MultinomialNB()\n",
    "mt.fit(X_train_res,y_train_res)\n",
    "mt.score(X_train_res,y_train_res)"
   ]
  },
  {
   "cell_type": "code",
   "execution_count": 54,
   "id": "verified-gauge",
   "metadata": {},
   "outputs": [
    {
     "data": {
      "text/plain": [
       "0.8650793650793651"
      ]
     },
     "execution_count": 54,
     "metadata": {},
     "output_type": "execute_result"
    }
   ],
   "source": [
    "mt = MultinomialNB()\n",
    "mt.fit(X_train_res,y_train_res)\n",
    "mt.score(X_test_res,y_test_res)"
   ]
  },
  {
   "cell_type": "markdown",
   "id": "boxed-teaching",
   "metadata": {},
   "source": [
    "### Upsampling "
   ]
  },
  {
   "cell_type": "code",
   "execution_count": 55,
   "id": "printable-beauty",
   "metadata": {},
   "outputs": [
    {
     "name": "stdout",
     "output_type": "stream",
     "text": [
      "Labels count for ham 0 = 3238 \n",
      "Labels count for spam 1 = 495 \n",
      "\n",
      "Labels count after for train ham 0 = 3238 \n",
      "Labels count after for train spam 1 = 3238 \n",
      "\n",
      "Labels count after for test ham 0 = 1587\n",
      "Labels count after for test spam 1 = 1587\n"
     ]
    }
   ],
   "source": [
    "print(\"Labels count for ham 0 = {} \".format(sum(y_train == 0))) \n",
    "print(\"Labels count for spam 1 = {} \".format(sum(y_train == 1))) \n",
    "  \n",
    "print()\n",
    "\n",
    "\n",
    "from imblearn.over_sampling import SMOTE \n",
    "\n",
    "sm = SMOTE(random_state = 2) \n",
    "X_train_up, y_train_up = sm.fit_resample(X_train, y_train)  \n",
    "  \n",
    "print(\"Labels count after for train ham 0 = {} \".format(sum(y_train_up == 0))) \n",
    "print(\"Labels count after for train spam 1 = {} \".format(sum(y_train_up == 1))) \n",
    "\n",
    "print()\n",
    "X_test_up, y_test_up = sm.fit_resample(X_test, y_test)\n",
    "\n",
    "print(\"Labels count after for test ham 0 = {}\".format(sum(y_test_up == 0))) \n",
    "print(\"Labels count after for test spam 1 = {}\".format(sum(y_test_up == 1))) "
   ]
  },
  {
   "cell_type": "code",
   "execution_count": 56,
   "id": "unnecessary-framework",
   "metadata": {},
   "outputs": [],
   "source": [
    "from sklearn.naive_bayes import MultinomialNB\n",
    "from sklearn.linear_model import LogisticRegression\n",
    "from sklearn.tree import DecisionTreeClassifier\n",
    "from sklearn.ensemble import RandomForestClassifier\n",
    "from sklearn.svm import SVC"
   ]
  },
  {
   "cell_type": "code",
   "execution_count": 57,
   "id": "derived-principal",
   "metadata": {},
   "outputs": [
    {
     "data": {
      "text/plain": [
       "<6476x6470 sparse matrix of type '<class 'numpy.int64'>'\n",
       "\twith 87108 stored elements in Compressed Sparse Row format>"
      ]
     },
     "execution_count": 57,
     "metadata": {},
     "output_type": "execute_result"
    }
   ],
   "source": [
    "X_train_up"
   ]
  },
  {
   "cell_type": "code",
   "execution_count": 58,
   "id": "fossil-arnold",
   "metadata": {},
   "outputs": [],
   "source": [
    "def svm(X_train_up,y_train_up,X_test_up,y_test_up):\n",
    "    svm = SVC(C=1.0,kernel='rbf')\n",
    "    svm.fit(X_train_up,y_train_up)\n",
    "    print(\"Train Accuracy_score = {} \".format(svm.score(X_train_up,y_train_up)))\n",
    "    print(\"Test Accuracy_score = {} \".format(svm.score(X_test_up,y_test_up)))\n",
    "    print()\n",
    "    print('---------- confusion matrix ------------')\n",
    "    y_train_up_pred = svm.predict(X_train_up)\n",
    "    y_test_up_pred = svm.predict(X_test_up)\n",
    "    print('Train confusion matrix = \\n ',confusion_matrix(y_train_up , y_train_up_pred))\n",
    "    print('test confusion matrix = \\n ',confusion_matrix(y_test_up , y_test_up_pred))\n",
    "    print()\n",
    "    print('----Classification Report -------')\n",
    "    print('Train = ',classification_report(y_train_up , y_train_up_pred))\n",
    "    print(\"Test = \",classification_report(y_test_up , y_test_up_pred))\n",
    "    "
   ]
  },
  {
   "cell_type": "code",
   "execution_count": 59,
   "id": "reliable-radio",
   "metadata": {},
   "outputs": [],
   "source": [
    "def RF(X_train_up,y_train_up,X_test_up,y_test_up):\n",
    "    rf = RandomForestClassifier()\n",
    "    rf.fit(X_train_up,y_train_up)\n",
    "    print(\"Train Accuracy_score = {} \".format(rf.score(X_train_up,y_train_up)))\n",
    "    print(\"Test Accuracy_score = {} \".format(rf.score(X_test_up,y_test_up)))\n",
    "    print()\n",
    "    print('---------- confusion matrix ------------')\n",
    "    y_train_up_pred = rf.predict(X_train_up)\n",
    "    y_test_up_pred = rf.predict(X_test_up)\n",
    "    print('Train confusion matrix = \\n',confusion_matrix(y_train_up , y_train_up_pred))\n",
    "    print('test confusion matrix =\\n ',confusion_matrix(y_test_up , y_test_up_pred))\n",
    "    print()\n",
    "    print('----Classification Report -------')\n",
    "    print('Train = ',classification_report(y_train_up , y_train_up_pred))\n",
    "    print(\"Test = \",classification_report(y_test_up , y_test_up_pred))"
   ]
  },
  {
   "cell_type": "code",
   "execution_count": 60,
   "id": "muslim-owner",
   "metadata": {},
   "outputs": [],
   "source": [
    "def DT(X_train_up,y_train_up,X_test_up,y_test_up):\n",
    "    dt = DecisionTreeClassifier()\n",
    "    dt.fit(X_train_up,y_train_up)\n",
    "    print(\"Train Accuracy_score = {} \".format(dt.score(X_train_up,y_train_up)))\n",
    "    print(\"Test Accuracy_score = {} \".format(dt.score(X_test_up,y_test_up)))\n",
    "    print()\n",
    "    print('---------- confusion matrix ------------')\n",
    "    y_train_up_pred = dt.predict(X_train_up)\n",
    "    y_test_up_pred = dt.predict(X_test_up)\n",
    "    print('Train confusion matrix = \\n',confusion_matrix(y_train_up , y_train_up_pred))\n",
    "    print('test confusion matrix = \\n',confusion_matrix(y_test_up , y_test_up_pred))\n",
    "    print()\n",
    "    print('----Classification Report -------')\n",
    "    print('Train = ',classification_report(y_train_up , y_train_up_pred))\n",
    "    print(\"Test = \",classification_report(y_test_up , y_test_up_pred))"
   ]
  },
  {
   "cell_type": "code",
   "execution_count": 61,
   "id": "focused-wilson",
   "metadata": {},
   "outputs": [],
   "source": [
    "def NB(X_train_up,y_train_up,X_test_up,y_test_up):\n",
    "    nb = MultinomialNB()\n",
    "    nb.fit(X_train_up,y_train_up)\n",
    "    print(\"Train Accuracy_score = {} \".format(nb.score(X_train_up,y_train_up)))\n",
    "    print(\"Test Accuracy_score = {} \".format(nb.score(X_test_up,y_test_up)))\n",
    "    print()\n",
    "    print('---------- confusion matrix ------------')\n",
    "    y_train_up_pred = nb.predict(X_train_up)\n",
    "    y_test_up_pred = nb.predict(X_test_up)\n",
    "    print('Train confusion matrix = \\n',confusion_matrix(y_train_up , y_train_up_pred))\n",
    "    print('test confusion matrix = \\n ',confusion_matrix(y_test_up , y_test_up_pred))\n",
    "    print()\n",
    "    print('----Classification Report -------')\n",
    "    print('Train = ',classification_report(y_train_up , y_train_up_pred))\n",
    "    print(\"Test = \",classification_report(y_test_up , y_test_up_pred))"
   ]
  },
  {
   "cell_type": "code",
   "execution_count": 62,
   "id": "found-uncertainty",
   "metadata": {},
   "outputs": [],
   "source": [
    "def LR(X_train_up,y_train_up,X_test_up,y_test_up):\n",
    "    lg = LogisticRegression()\n",
    "    lg.fit(X_train_up,y_train_up)\n",
    "    print(\"Train Accuracy_score = {} \".format(lg.score(X_train_up,y_train_up)))\n",
    "    print(\"Test Accuracy_score = {} \".format(lg.score(X_test_up,y_test_up)))\n",
    "    print()\n",
    "    print('---------- confusion matrix ------------')\n",
    "    y_train_up_pred = lg.predict(X_train_up)\n",
    "    y_test_up_pred = lg.predict(X_test_up)\n",
    "    print('Train confusion matrix = \\n',confusion_matrix(y_train_up , y_train_up_pred))\n",
    "    print('test confusion matrix = \\n',confusion_matrix(y_test_up , y_test_up_pred))\n",
    "    print()\n",
    "    print('----Classification Report -------')\n",
    "    print('Train = ',classification_report(y_train_up , y_train_up_pred))\n",
    "    print(\"Test = \",classification_report(y_test_up , y_test_up_pred))"
   ]
  },
  {
   "cell_type": "code",
   "execution_count": 63,
   "id": "approximate-howard",
   "metadata": {},
   "outputs": [],
   "source": [
    "def checking(X_train_up,y_train_up,X_test_up,y_test_up):\n",
    "    print('SVM')\n",
    "    svm(X_train_up,y_train_up,X_test_up,y_test_up)\n",
    "    print('*'*100)\n",
    "    print('Random Forest')\n",
    "    RF(X_train_up,y_train_up,X_test_up,y_test_up)\n",
    "    print('*'*100)\n",
    "    print('Decision Tree')\n",
    "    DT(X_train_up,y_train_up,X_test_up,y_test_up)\n",
    "    print('*'*100)\n",
    "    print('Naive Bayes')\n",
    "    NB(X_train_up,y_train_up,X_test_up,y_test_up)\n",
    "    print('*'*100)\n",
    "    print('Logistic Regression')\n",
    "    LR(X_train_up,y_train_up,X_test_up,y_test_up)\n",
    "    print('*'*100)\n",
    "    \n",
    "    \n",
    "    \n",
    "    "
   ]
  },
  {
   "cell_type": "code",
   "execution_count": 64,
   "id": "offensive-driver",
   "metadata": {},
   "outputs": [
    {
     "name": "stdout",
     "output_type": "stream",
     "text": [
      "SVM\n",
      "Train Accuracy_score = 0.987183446571958 \n",
      "Test Accuracy_score = 0.9325771896660365 \n",
      "\n",
      "---------- confusion matrix ------------\n",
      "Train confusion matrix = \n",
      "  [[3168   70]\n",
      " [  13 3225]]\n",
      "test confusion matrix = \n",
      "  [[1457  130]\n",
      " [  84 1503]]\n",
      "\n",
      "----Classification Report -------\n",
      "Train =                precision    recall  f1-score   support\n",
      "\n",
      "           0       1.00      0.98      0.99      3238\n",
      "           1       0.98      1.00      0.99      3238\n",
      "\n",
      "    accuracy                           0.99      6476\n",
      "   macro avg       0.99      0.99      0.99      6476\n",
      "weighted avg       0.99      0.99      0.99      6476\n",
      "\n",
      "Test =                precision    recall  f1-score   support\n",
      "\n",
      "           0       0.95      0.92      0.93      1587\n",
      "           1       0.92      0.95      0.93      1587\n",
      "\n",
      "    accuracy                           0.93      3174\n",
      "   macro avg       0.93      0.93      0.93      3174\n",
      "weighted avg       0.93      0.93      0.93      3174\n",
      "\n",
      "****************************************************************************************************\n",
      "Random Forest\n",
      "Train Accuracy_score = 0.9981470043236566 \n",
      "Test Accuracy_score = 0.923755513547574 \n",
      "\n",
      "---------- confusion matrix ------------\n",
      "Train confusion matrix = \n",
      " [[3227   11]\n",
      " [   1 3237]]\n",
      "test confusion matrix =\n",
      "  [[1380  207]\n",
      " [  35 1552]]\n",
      "\n",
      "----Classification Report -------\n",
      "Train =                precision    recall  f1-score   support\n",
      "\n",
      "           0       1.00      1.00      1.00      3238\n",
      "           1       1.00      1.00      1.00      3238\n",
      "\n",
      "    accuracy                           1.00      6476\n",
      "   macro avg       1.00      1.00      1.00      6476\n",
      "weighted avg       1.00      1.00      1.00      6476\n",
      "\n",
      "Test =                precision    recall  f1-score   support\n",
      "\n",
      "           0       0.98      0.87      0.92      1587\n",
      "           1       0.88      0.98      0.93      1587\n",
      "\n",
      "    accuracy                           0.92      3174\n",
      "   macro avg       0.93      0.92      0.92      3174\n",
      "weighted avg       0.93      0.92      0.92      3174\n",
      "\n",
      "****************************************************************************************************\n",
      "Decision Tree\n",
      "Train Accuracy_score = 0.9981470043236566 \n",
      "Test Accuracy_score = 0.8985507246376812 \n",
      "\n",
      "---------- confusion matrix ------------\n",
      "Train confusion matrix = \n",
      " [[3227   11]\n",
      " [   1 3237]]\n",
      "test confusion matrix = \n",
      " [[1327  260]\n",
      " [  62 1525]]\n",
      "\n",
      "----Classification Report -------\n",
      "Train =                precision    recall  f1-score   support\n",
      "\n",
      "           0       1.00      1.00      1.00      3238\n",
      "           1       1.00      1.00      1.00      3238\n",
      "\n",
      "    accuracy                           1.00      6476\n",
      "   macro avg       1.00      1.00      1.00      6476\n",
      "weighted avg       1.00      1.00      1.00      6476\n",
      "\n",
      "Test =                precision    recall  f1-score   support\n",
      "\n",
      "           0       0.96      0.84      0.89      1587\n",
      "           1       0.85      0.96      0.90      1587\n",
      "\n",
      "    accuracy                           0.90      3174\n",
      "   macro avg       0.90      0.90      0.90      3174\n",
      "weighted avg       0.90      0.90      0.90      3174\n",
      "\n",
      "****************************************************************************************************\n",
      "Naive Bayes\n",
      "Train Accuracy_score = 0.9190858554663373 \n",
      "Test Accuracy_score = 0.8037177063642093 \n",
      "\n",
      "---------- confusion matrix ------------\n",
      "Train confusion matrix = \n",
      " [[3185   53]\n",
      " [ 471 2767]]\n",
      "test confusion matrix = \n",
      "  [[1544   43]\n",
      " [ 580 1007]]\n",
      "\n",
      "----Classification Report -------\n",
      "Train =                precision    recall  f1-score   support\n",
      "\n",
      "           0       0.87      0.98      0.92      3238\n",
      "           1       0.98      0.85      0.91      3238\n",
      "\n",
      "    accuracy                           0.92      6476\n",
      "   macro avg       0.93      0.92      0.92      6476\n",
      "weighted avg       0.93      0.92      0.92      6476\n",
      "\n",
      "Test =                precision    recall  f1-score   support\n",
      "\n",
      "           0       0.73      0.97      0.83      1587\n",
      "           1       0.96      0.63      0.76      1587\n",
      "\n",
      "    accuracy                           0.80      3174\n",
      "   macro avg       0.84      0.80      0.80      3174\n",
      "weighted avg       0.84      0.80      0.80      3174\n",
      "\n",
      "****************************************************************************************************\n",
      "Logistic Regression\n",
      "Train Accuracy_score = 0.9876466954910439 \n",
      "Test Accuracy_score = 0.9464398235664776 \n",
      "\n",
      "---------- confusion matrix ------------\n",
      "Train confusion matrix = \n",
      " [[3175   63]\n",
      " [  17 3221]]\n",
      "test confusion matrix = \n",
      " [[1466  121]\n",
      " [  49 1538]]\n",
      "\n",
      "----Classification Report -------\n",
      "Train =                precision    recall  f1-score   support\n",
      "\n",
      "           0       0.99      0.98      0.99      3238\n",
      "           1       0.98      0.99      0.99      3238\n",
      "\n",
      "    accuracy                           0.99      6476\n",
      "   macro avg       0.99      0.99      0.99      6476\n",
      "weighted avg       0.99      0.99      0.99      6476\n",
      "\n",
      "Test =                precision    recall  f1-score   support\n",
      "\n",
      "           0       0.97      0.92      0.95      1587\n",
      "           1       0.93      0.97      0.95      1587\n",
      "\n",
      "    accuracy                           0.95      3174\n",
      "   macro avg       0.95      0.95      0.95      3174\n",
      "weighted avg       0.95      0.95      0.95      3174\n",
      "\n",
      "****************************************************************************************************\n"
     ]
    }
   ],
   "source": [
    "checking(X_train_up,y_train_up,X_test_up,y_test_up)"
   ]
  },
  {
   "cell_type": "markdown",
   "id": "headed-bedroom",
   "metadata": {},
   "source": [
    "#### Since Logistic Regression gives highest Accuracy we can procees with logistic Regression "
   ]
  },
  {
   "cell_type": "code",
   "execution_count": 65,
   "id": "mexican-checklist",
   "metadata": {},
   "outputs": [
    {
     "name": "stdout",
     "output_type": "stream",
     "text": [
      "Train Accuracy_score = 0.9876466954910439 \n",
      "Test Accuracy_score = 0.9464398235664776 \n",
      "\n",
      "---------- confusion matrix ------------\n",
      "Train confusion matrix = \n",
      " [[3175   63]\n",
      " [  17 3221]]\n",
      "test confusion matrix = \n",
      " [[1466  121]\n",
      " [  49 1538]]\n",
      "\n",
      "----Classification Report -------\n",
      "Train =                precision    recall  f1-score   support\n",
      "\n",
      "           0       0.99      0.98      0.99      3238\n",
      "           1       0.98      0.99      0.99      3238\n",
      "\n",
      "    accuracy                           0.99      6476\n",
      "   macro avg       0.99      0.99      0.99      6476\n",
      "weighted avg       0.99      0.99      0.99      6476\n",
      "\n",
      "Test =                precision    recall  f1-score   support\n",
      "\n",
      "           0       0.97      0.92      0.95      1587\n",
      "           1       0.93      0.97      0.95      1587\n",
      "\n",
      "    accuracy                           0.95      3174\n",
      "   macro avg       0.95      0.95      0.95      3174\n",
      "weighted avg       0.95      0.95      0.95      3174\n",
      "\n"
     ]
    }
   ],
   "source": [
    "lg = LogisticRegression()\n",
    "lg.fit(X_train_up,y_train_up)\n",
    "print(\"Train Accuracy_score = {} \".format(lg.score(X_train_up,y_train_up)))\n",
    "print(\"Test Accuracy_score = {} \".format(lg.score(X_test_up,y_test_up)))\n",
    "print()\n",
    "print('---------- confusion matrix ------------')\n",
    "y_train_up_pred = lg.predict(X_train_up)\n",
    "y_test_up_pred = lg.predict(X_test_up)\n",
    "print('Train confusion matrix = \\n',confusion_matrix(y_train_up , y_train_up_pred))\n",
    "print('test confusion matrix = \\n',confusion_matrix(y_test_up , y_test_up_pred))\n",
    "print()\n",
    "print('----Classification Report -------')\n",
    "print('Train = ',classification_report(y_train_up , y_train_up_pred))\n",
    "print(\"Test = \",classification_report(y_test_up , y_test_up_pred))"
   ]
  },
  {
   "cell_type": "markdown",
   "id": "aware-marketplace",
   "metadata": {},
   "source": [
    "### AUC and ROC "
   ]
  },
  {
   "cell_type": "code",
   "execution_count": 66,
   "id": "known-david",
   "metadata": {},
   "outputs": [],
   "source": [
    "from sklearn.metrics import roc_auc_score , roc_curve"
   ]
  },
  {
   "cell_type": "code",
   "execution_count": 67,
   "id": "substantial-joining",
   "metadata": {},
   "outputs": [],
   "source": [
    "y_test_auc = lg.predict_proba(X_test_up)[: , 1]"
   ]
  },
  {
   "cell_type": "code",
   "execution_count": 68,
   "id": "angry-extension",
   "metadata": {},
   "outputs": [
    {
     "data": {
      "text/plain": [
       "array([8.41035185e-02, 3.49069570e-04, 8.34161614e-01, ...,\n",
       "       9.97190110e-01, 6.37185697e-01, 9.98401777e-01])"
      ]
     },
     "execution_count": 68,
     "metadata": {},
     "output_type": "execute_result"
    }
   ],
   "source": [
    "y_test_auc"
   ]
  },
  {
   "cell_type": "code",
   "execution_count": 69,
   "id": "hidden-preference",
   "metadata": {},
   "outputs": [],
   "source": [
    "fpr , tpr , threshold = roc_curve(y_test_up,y_test_auc)"
   ]
  },
  {
   "cell_type": "code",
   "execution_count": 70,
   "id": "specified-letters",
   "metadata": {},
   "outputs": [
    {
     "name": "stdout",
     "output_type": "stream",
     "text": [
      "FPR = \n",
      "\n",
      " [0.00000000e+00 0.00000000e+00 0.00000000e+00 0.00000000e+00\n",
      " 0.00000000e+00 0.00000000e+00 0.00000000e+00 0.00000000e+00\n",
      " 0.00000000e+00 0.00000000e+00 0.00000000e+00 0.00000000e+00\n",
      " 0.00000000e+00 0.00000000e+00 0.00000000e+00 0.00000000e+00\n",
      " 0.00000000e+00 0.00000000e+00 0.00000000e+00 0.00000000e+00\n",
      " 0.00000000e+00 0.00000000e+00 0.00000000e+00 0.00000000e+00\n",
      " 0.00000000e+00 0.00000000e+00 0.00000000e+00 0.00000000e+00\n",
      " 0.00000000e+00 0.00000000e+00 0.00000000e+00 0.00000000e+00\n",
      " 0.00000000e+00 0.00000000e+00 0.00000000e+00 0.00000000e+00\n",
      " 0.00000000e+00 0.00000000e+00 0.00000000e+00 0.00000000e+00\n",
      " 0.00000000e+00 0.00000000e+00 0.00000000e+00 0.00000000e+00\n",
      " 0.00000000e+00 0.00000000e+00 0.00000000e+00 0.00000000e+00\n",
      " 0.00000000e+00 0.00000000e+00 0.00000000e+00 0.00000000e+00\n",
      " 0.00000000e+00 0.00000000e+00 0.00000000e+00 0.00000000e+00\n",
      " 0.00000000e+00 0.00000000e+00 0.00000000e+00 0.00000000e+00\n",
      " 0.00000000e+00 0.00000000e+00 0.00000000e+00 0.00000000e+00\n",
      " 0.00000000e+00 0.00000000e+00 0.00000000e+00 0.00000000e+00\n",
      " 0.00000000e+00 0.00000000e+00 0.00000000e+00 0.00000000e+00\n",
      " 0.00000000e+00 0.00000000e+00 0.00000000e+00 0.00000000e+00\n",
      " 0.00000000e+00 0.00000000e+00 0.00000000e+00 0.00000000e+00\n",
      " 0.00000000e+00 0.00000000e+00 0.00000000e+00 0.00000000e+00\n",
      " 0.00000000e+00 0.00000000e+00 0.00000000e+00 0.00000000e+00\n",
      " 0.00000000e+00 0.00000000e+00 0.00000000e+00 0.00000000e+00\n",
      " 0.00000000e+00 0.00000000e+00 0.00000000e+00 0.00000000e+00\n",
      " 0.00000000e+00 0.00000000e+00 0.00000000e+00 0.00000000e+00\n",
      " 0.00000000e+00 0.00000000e+00 0.00000000e+00 0.00000000e+00\n",
      " 0.00000000e+00 0.00000000e+00 0.00000000e+00 0.00000000e+00\n",
      " 0.00000000e+00 0.00000000e+00 0.00000000e+00 0.00000000e+00\n",
      " 0.00000000e+00 0.00000000e+00 0.00000000e+00 0.00000000e+00\n",
      " 0.00000000e+00 0.00000000e+00 0.00000000e+00 0.00000000e+00\n",
      " 0.00000000e+00 0.00000000e+00 0.00000000e+00 0.00000000e+00\n",
      " 0.00000000e+00 0.00000000e+00 0.00000000e+00 0.00000000e+00\n",
      " 0.00000000e+00 0.00000000e+00 0.00000000e+00 0.00000000e+00\n",
      " 0.00000000e+00 0.00000000e+00 0.00000000e+00 0.00000000e+00\n",
      " 0.00000000e+00 0.00000000e+00 0.00000000e+00 0.00000000e+00\n",
      " 0.00000000e+00 0.00000000e+00 6.30119723e-04 6.30119723e-04\n",
      " 6.30119723e-04 6.30119723e-04 6.30119723e-04 6.30119723e-04\n",
      " 6.30119723e-04 1.26023945e-03 1.26023945e-03 1.26023945e-03\n",
      " 1.26023945e-03 1.26023945e-03 1.26023945e-03 1.26023945e-03\n",
      " 1.26023945e-03 1.26023945e-03 1.26023945e-03 1.26023945e-03\n",
      " 1.26023945e-03 1.26023945e-03 1.26023945e-03 1.89035917e-03\n",
      " 1.89035917e-03 1.89035917e-03 1.89035917e-03 1.89035917e-03\n",
      " 1.89035917e-03 1.89035917e-03 1.89035917e-03 1.89035917e-03\n",
      " 1.89035917e-03 1.89035917e-03 1.89035917e-03 1.89035917e-03\n",
      " 1.89035917e-03 1.89035917e-03 1.89035917e-03 1.89035917e-03\n",
      " 2.52047889e-03 2.52047889e-03 2.52047889e-03 2.52047889e-03\n",
      " 2.52047889e-03 2.52047889e-03 3.15059861e-03 3.15059861e-03\n",
      " 3.15059861e-03 3.15059861e-03 3.78071834e-03 3.78071834e-03\n",
      " 3.78071834e-03 3.78071834e-03 3.78071834e-03 3.78071834e-03\n",
      " 3.78071834e-03 3.78071834e-03 3.78071834e-03 3.78071834e-03\n",
      " 3.78071834e-03 3.78071834e-03 3.78071834e-03 3.78071834e-03\n",
      " 3.78071834e-03 3.78071834e-03 4.41083806e-03 4.41083806e-03\n",
      " 4.41083806e-03 4.41083806e-03 4.41083806e-03 4.41083806e-03\n",
      " 5.67107750e-03 6.30119723e-03 6.30119723e-03 6.30119723e-03\n",
      " 6.30119723e-03 7.56143667e-03 7.56143667e-03 7.56143667e-03\n",
      " 8.19155640e-03 8.19155640e-03 8.19155640e-03 8.19155640e-03\n",
      " 8.19155640e-03 8.82167612e-03 8.82167612e-03 8.82167612e-03\n",
      " 8.82167612e-03 8.82167612e-03 9.45179584e-03 9.45179584e-03\n",
      " 9.45179584e-03 1.00819156e-02 1.00819156e-02 1.00819156e-02\n",
      " 1.00819156e-02 1.07120353e-02 1.07120353e-02 1.07120353e-02\n",
      " 1.19722747e-02 1.19722747e-02 1.19722747e-02 1.26023945e-02\n",
      " 1.26023945e-02 1.26023945e-02 1.32325142e-02 1.32325142e-02\n",
      " 1.32325142e-02 1.32325142e-02 1.32325142e-02 1.32325142e-02\n",
      " 1.38626339e-02 1.38626339e-02 1.44927536e-02 1.44927536e-02\n",
      " 1.44927536e-02 1.44927536e-02 1.44927536e-02 1.44927536e-02\n",
      " 1.51228733e-02 1.51228733e-02 1.51228733e-02 1.51228733e-02\n",
      " 1.51228733e-02 1.57529931e-02 1.57529931e-02 1.57529931e-02\n",
      " 1.57529931e-02 1.57529931e-02 1.57529931e-02 1.57529931e-02\n",
      " 1.63831128e-02 1.63831128e-02 1.95337114e-02 1.95337114e-02\n",
      " 1.95337114e-02 2.07939509e-02 2.07939509e-02 2.20541903e-02\n",
      " 2.20541903e-02 2.26843100e-02 2.26843100e-02 2.33144297e-02\n",
      " 2.33144297e-02 2.33144297e-02 2.58349086e-02 2.58349086e-02\n",
      " 2.70951481e-02 3.46565848e-02 3.84373031e-02 3.84373031e-02\n",
      " 3.90674228e-02 3.90674228e-02 4.09577820e-02 4.22180214e-02\n",
      " 4.72589792e-02 4.72589792e-02 4.72589792e-02 4.72589792e-02\n",
      " 4.91493384e-02 4.91493384e-02 4.91493384e-02 5.10396975e-02\n",
      " 5.10396975e-02 5.73408948e-02 5.86011342e-02 6.11216131e-02\n",
      " 6.11216131e-02 6.67926906e-02 6.80529301e-02 6.80529301e-02\n",
      " 8.06553245e-02 8.06553245e-02 8.19155640e-02 8.19155640e-02\n",
      " 8.82167612e-02 8.82167612e-02 9.19974795e-02 9.19974795e-02\n",
      " 9.32577190e-02 9.32577190e-02 1.06490233e-01 1.06490233e-01\n",
      " 1.07750473e-01 1.07750473e-01 1.17832388e-01 1.17832388e-01\n",
      " 1.19092628e-01 1.19092628e-01 1.21613106e-01 1.21613106e-01\n",
      " 1.23503466e-01 1.23503466e-01 1.32955261e-01 1.34215501e-01\n",
      " 1.36735980e-01 1.36735980e-01 1.38626339e-01 1.39886578e-01\n",
      " 1.43037177e-01 1.43037177e-01 1.46187776e-01 1.46187776e-01\n",
      " 1.47448015e-01 1.47448015e-01 1.49338374e-01 1.49968494e-01\n",
      " 1.50598614e-01 1.51858853e-01 1.56269691e-01 1.56269691e-01\n",
      " 1.60680529e-01 1.60680529e-01 1.63831128e-01 1.65091367e-01\n",
      " 1.72022684e-01 1.72022684e-01 1.75173283e-01 1.77693762e-01\n",
      " 1.82734720e-01 1.82734720e-01 2.00378072e-01 2.02268431e-01\n",
      " 2.03528670e-01 2.03528670e-01 2.15500945e-01 2.16761185e-01\n",
      " 2.38815375e-01 2.40705734e-01 2.43856333e-01 2.43856333e-01\n",
      " 2.45116572e-01 2.46376812e-01 2.47637051e-01 2.48897290e-01\n",
      " 2.51417769e-01 2.52678009e-01 2.54568368e-01 2.75362319e-01\n",
      " 2.76622558e-01 2.84814115e-01 2.84814115e-01 2.88594833e-01\n",
      " 2.96156270e-01 2.99936988e-01 3.01197227e-01 3.04977946e-01\n",
      " 3.04977946e-01 3.18210460e-01 3.18210460e-01 3.66099559e-01\n",
      " 3.67989918e-01 3.87523629e-01 3.87523629e-01 3.91934468e-01\n",
      " 3.93194707e-01 4.26591052e-01 4.26591052e-01 4.34152489e-01\n",
      " 4.35412728e-01 4.53686200e-01 4.54946440e-01 4.60617517e-01\n",
      " 4.68178954e-01 4.69439193e-01 4.87082546e-01 4.87082546e-01\n",
      " 5.69628229e-01 5.69628229e-01 5.89161941e-01 5.90422180e-01\n",
      " 6.40831758e-01 6.40831758e-01 6.49023314e-01 6.49023314e-01\n",
      " 6.52804033e-01 6.52804033e-01 6.54064272e-01 6.55324512e-01\n",
      " 6.55954631e-01 6.57214871e-01 6.58475110e-01 6.59735350e-01\n",
      " 6.60995589e-01 6.62885948e-01 6.83049779e-01 6.83049779e-01\n",
      " 6.84940139e-01 6.84940139e-01 7.05734089e-01 7.06994329e-01\n",
      " 7.15185885e-01 7.16446125e-01 7.37870195e-01 7.37870195e-01\n",
      " 7.41020794e-01 7.42911153e-01 7.47952111e-01 7.49212350e-01\n",
      " 7.57403907e-01 7.58664146e-01 7.68746062e-01 7.70006301e-01\n",
      " 7.88909893e-01 7.88909893e-01 8.07813485e-01 8.09073724e-01\n",
      " 8.30497795e-01 8.31758034e-01 8.39949590e-01 8.41209830e-01\n",
      " 8.61373661e-01 8.62633900e-01 8.90989288e-01 8.92249527e-01\n",
      " 9.07372401e-01 9.08632640e-01 9.18084436e-01 9.19344675e-01\n",
      " 9.26906112e-01 9.28166352e-01 9.31316950e-01 9.33207309e-01\n",
      " 9.59672338e-01 9.60932577e-01 9.76055451e-01 9.77315690e-01\n",
      " 1.00000000e+00]\n",
      "----------------------------------------------------------------------------------------------------\n",
      "TPR = \n",
      "\n",
      " [0.00000000e+00 6.30119723e-04 1.26023945e-03 5.67107750e-03\n",
      " 7.56143667e-03 8.82167612e-03 9.45179584e-03 1.13421550e-02\n",
      " 1.26023945e-02 1.44927536e-02 1.76433522e-02 2.01638311e-02\n",
      " 2.52047889e-02 2.77252678e-02 2.89855072e-02 3.08758664e-02\n",
      " 3.15059861e-02 3.46565848e-02 3.65469439e-02 3.84373031e-02\n",
      " 3.96975425e-02 4.15879017e-02 4.41083806e-02 5.04095778e-02\n",
      " 5.29300567e-02 5.79710145e-02 6.04914934e-02 6.11216131e-02\n",
      " 6.42722117e-02 6.61625709e-02 6.80529301e-02 7.18336484e-02\n",
      " 7.49842470e-02 7.62444865e-02 7.81348456e-02 8.06553245e-02\n",
      " 8.38059231e-02 8.56962823e-02 8.88468809e-02 9.26275992e-02\n",
      " 9.51480781e-02 9.64083176e-02 9.76685570e-02 9.89287965e-02\n",
      " 1.00819156e-01 1.02079395e-01 1.10270951e-01 1.14681790e-01\n",
      " 1.15942029e-01 1.17202268e-01 1.17832388e-01 1.20352867e-01\n",
      " 1.21613106e-01 1.23503466e-01 1.24763705e-01 1.26654064e-01\n",
      " 1.27914304e-01 1.28544423e-01 1.29804663e-01 1.34215501e-01\n",
      " 1.35475740e-01 1.37366100e-01 1.39256459e-01 1.44297417e-01\n",
      " 1.46817895e-01 1.51228733e-01 1.51858853e-01 1.53749212e-01\n",
      " 1.54379332e-01 1.56269691e-01 1.58160050e-01 1.60050410e-01\n",
      " 1.61940769e-01 1.63831128e-01 1.66351607e-01 1.69502205e-01\n",
      " 1.71392565e-01 1.73913043e-01 1.77063642e-01 1.79584121e-01\n",
      " 1.81474480e-01 1.85255198e-01 1.89035917e-01 1.89666037e-01\n",
      " 1.90926276e-01 1.91556396e-01 1.94076875e-01 1.99117832e-01\n",
      " 2.03528670e-01 2.05419030e-01 2.06049149e-01 2.09829868e-01\n",
      " 2.11720227e-01 2.12980466e-01 2.14240706e-01 2.15500945e-01\n",
      " 2.17391304e-01 2.18021424e-01 2.21172023e-01 2.21802142e-01\n",
      " 2.23692502e-01 2.25582861e-01 2.27473220e-01 2.31253938e-01\n",
      " 2.32514178e-01 2.33774417e-01 2.36294896e-01 2.38185255e-01\n",
      " 2.40705734e-01 2.41965974e-01 2.44486452e-01 2.46376812e-01\n",
      " 2.47637051e-01 2.48897290e-01 2.52047889e-01 2.53938248e-01\n",
      " 2.58349086e-01 2.62129805e-01 2.64650284e-01 2.70951481e-01\n",
      " 2.72211720e-01 2.72841840e-01 2.75992439e-01 2.77252678e-01\n",
      " 2.78512917e-01 2.81033396e-01 2.85444234e-01 2.86074354e-01\n",
      " 2.88594833e-01 2.90485192e-01 2.94265911e-01 2.95526150e-01\n",
      " 2.96786389e-01 2.98676749e-01 2.99306868e-01 3.01827347e-01\n",
      " 3.03717706e-01 3.04977946e-01 3.07498425e-01 3.21361059e-01\n",
      " 3.23881537e-01 3.24511657e-01 3.24511657e-01 3.26402016e-01\n",
      " 3.28292376e-01 3.31442974e-01 3.32073094e-01 3.33333333e-01\n",
      " 3.33963453e-01 3.34593573e-01 3.35223693e-01 3.39004411e-01\n",
      " 3.40264650e-01 3.42155009e-01 3.45305608e-01 3.47195967e-01\n",
      " 3.49716446e-01 3.52236925e-01 3.55387524e-01 3.59798362e-01\n",
      " 3.62318841e-01 3.63579080e-01 3.65469439e-01 3.65469439e-01\n",
      " 3.66729679e-01 3.68620038e-01 3.70510397e-01 3.72400756e-01\n",
      " 3.76811594e-01 3.78701953e-01 3.82482672e-01 3.84373031e-01\n",
      " 3.85633270e-01 3.90044108e-01 3.90674228e-01 3.96345306e-01\n",
      " 3.97605545e-01 4.01386263e-01 4.04536862e-01 4.06427221e-01\n",
      " 4.06427221e-01 4.07057341e-01 4.09577820e-01 4.10838059e-01\n",
      " 4.16509137e-01 4.17139256e-01 4.17139256e-01 4.17769376e-01\n",
      " 4.21550095e-01 4.22180214e-01 4.22180214e-01 4.42344045e-01\n",
      " 4.43604285e-01 4.44234405e-01 4.46124764e-01 4.46754883e-01\n",
      " 4.51795841e-01 4.54316320e-01 4.57466919e-01 4.58727158e-01\n",
      " 4.59987398e-01 4.61247637e-01 4.61877757e-01 4.63137996e-01\n",
      " 4.64398236e-01 4.66288595e-01 4.66288595e-01 4.66918715e-01\n",
      " 4.69439193e-01 4.73850032e-01 4.74480151e-01 4.75740391e-01\n",
      " 5.12917454e-01 5.15437933e-01 5.16068053e-01 5.17328292e-01\n",
      " 5.21739130e-01 5.21739130e-01 5.23629490e-01 5.24259609e-01\n",
      " 5.24259609e-01 5.29930687e-01 5.31190926e-01 5.33081285e-01\n",
      " 5.33711405e-01 5.33711405e-01 5.35601764e-01 5.36231884e-01\n",
      " 5.37492124e-01 5.40642722e-01 5.40642722e-01 5.41272842e-01\n",
      " 5.43163201e-01 5.43163201e-01 5.43793321e-01 5.45683680e-01\n",
      " 5.48204159e-01 5.48204159e-01 5.51984877e-01 5.53875236e-01\n",
      " 5.53875236e-01 5.55135476e-01 5.55765595e-01 5.55765595e-01\n",
      " 5.57655955e-01 5.58916194e-01 5.58916194e-01 5.60176434e-01\n",
      " 5.65847511e-01 5.67107750e-01 5.68998110e-01 5.69628229e-01\n",
      " 5.69628229e-01 5.70258349e-01 5.70258349e-01 5.70888469e-01\n",
      " 5.75299307e-01 5.77189666e-01 5.78449905e-01 5.81600504e-01\n",
      " 5.81600504e-01 5.85381222e-01 5.87271582e-01 5.89792060e-01\n",
      " 5.90422180e-01 5.90422180e-01 5.92312539e-01 5.94202899e-01\n",
      " 5.95463138e-01 5.96723377e-01 5.97983617e-01 5.98613737e-01\n",
      " 5.98613737e-01 6.00504096e-01 6.00504096e-01 6.02394455e-01\n",
      " 6.04914934e-01 6.04914934e-01 6.06805293e-01 6.06805293e-01\n",
      " 6.09955892e-01 6.09955892e-01 6.10586011e-01 6.10586011e-01\n",
      " 6.13106490e-01 6.14366730e-01 6.14366730e-01 6.14996849e-01\n",
      " 6.14996849e-01 9.50220542e-01 9.50220542e-01 9.51480781e-01\n",
      " 9.51480781e-01 9.52741021e-01 9.52741021e-01 9.52741021e-01\n",
      " 9.52741021e-01 9.53371141e-01 9.54631380e-01 9.55261500e-01\n",
      " 9.55261500e-01 9.55891619e-01 9.57781979e-01 9.57781979e-01\n",
      " 9.58412098e-01 9.58412098e-01 9.58412098e-01 9.58412098e-01\n",
      " 9.59042218e-01 9.59042218e-01 9.59042218e-01 9.69124134e-01\n",
      " 9.69124134e-01 9.71014493e-01 9.71014493e-01 9.71644612e-01\n",
      " 9.71644612e-01 9.72904852e-01 9.72904852e-01 9.73534972e-01\n",
      " 9.73534972e-01 9.74165091e-01 9.74165091e-01 9.74795211e-01\n",
      " 9.74795211e-01 9.76685570e-01 9.76685570e-01 9.77315690e-01\n",
      " 9.77315690e-01 9.77945810e-01 9.77945810e-01 9.78575929e-01\n",
      " 9.78575929e-01 9.79836169e-01 9.79836169e-01 9.79836169e-01\n",
      " 9.79836169e-01 9.83616887e-01 9.83616887e-01 9.83616887e-01\n",
      " 9.83616887e-01 9.84247007e-01 9.84247007e-01 9.84877127e-01\n",
      " 9.84877127e-01 9.85507246e-01 9.85507246e-01 9.86767486e-01\n",
      " 9.86767486e-01 9.86767486e-01 9.86767486e-01 9.87397606e-01\n",
      " 9.87397606e-01 9.88027725e-01 9.88027725e-01 9.88027725e-01\n",
      " 9.88027725e-01 9.88657845e-01 9.88657845e-01 9.88657845e-01\n",
      " 9.88657845e-01 9.89287965e-01 9.89287965e-01 9.89287965e-01\n",
      " 9.89287965e-01 9.90548204e-01 9.90548204e-01 9.90548204e-01\n",
      " 9.90548204e-01 9.90548204e-01 9.90548204e-01 9.91178324e-01\n",
      " 9.91178324e-01 9.91178324e-01 9.91178324e-01 9.91178324e-01\n",
      " 9.91178324e-01 9.91178324e-01 9.91178324e-01 9.91178324e-01\n",
      " 9.91178324e-01 9.91178324e-01 9.91808444e-01 9.91808444e-01\n",
      " 9.91808444e-01 9.91808444e-01 9.91808444e-01 9.91808444e-01\n",
      " 9.92438563e-01 9.92438563e-01 9.93068683e-01 9.93068683e-01\n",
      " 9.93068683e-01 9.93068683e-01 9.93698803e-01 9.93698803e-01\n",
      " 9.93698803e-01 9.93698803e-01 9.94328922e-01 9.94328922e-01\n",
      " 9.94328922e-01 9.94328922e-01 9.94328922e-01 9.94328922e-01\n",
      " 9.94328922e-01 9.94328922e-01 9.94328922e-01 9.94959042e-01\n",
      " 9.94959042e-01 9.95589162e-01 9.95589162e-01 9.95589162e-01\n",
      " 9.95589162e-01 9.96219282e-01 9.96219282e-01 9.96849401e-01\n",
      " 9.96849401e-01 9.97479521e-01 9.97479521e-01 9.97479521e-01\n",
      " 9.97479521e-01 9.97479521e-01 9.97479521e-01 9.97479521e-01\n",
      " 9.97479521e-01 9.97479521e-01 9.97479521e-01 9.98109641e-01\n",
      " 9.98109641e-01 9.98739761e-01 9.98739761e-01 9.98739761e-01\n",
      " 9.98739761e-01 9.98739761e-01 9.98739761e-01 9.99369880e-01\n",
      " 9.99369880e-01 9.99369880e-01 9.99369880e-01 9.99369880e-01\n",
      " 9.99369880e-01 9.99369880e-01 9.99369880e-01 9.99369880e-01\n",
      " 9.99369880e-01 1.00000000e+00 1.00000000e+00 1.00000000e+00\n",
      " 1.00000000e+00 1.00000000e+00 1.00000000e+00 1.00000000e+00\n",
      " 1.00000000e+00 1.00000000e+00 1.00000000e+00 1.00000000e+00\n",
      " 1.00000000e+00 1.00000000e+00 1.00000000e+00 1.00000000e+00\n",
      " 1.00000000e+00 1.00000000e+00 1.00000000e+00 1.00000000e+00\n",
      " 1.00000000e+00 1.00000000e+00 1.00000000e+00 1.00000000e+00\n",
      " 1.00000000e+00]\n"
     ]
    }
   ],
   "source": [
    "print(\"FPR = \\n\\n\",fpr)\n",
    "print('-'*100)\n",
    "print('TPR = \\n\\n',tpr)\n"
   ]
  },
  {
   "cell_type": "code",
   "execution_count": 71,
   "id": "liberal-monitor",
   "metadata": {},
   "outputs": [
    {
     "data": {
      "text/plain": [
       "[<matplotlib.lines.Line2D at 0x1f37cbd4a30>]"
      ]
     },
     "execution_count": 71,
     "metadata": {},
     "output_type": "execute_result"
    },
    {
     "data": {
      "image/png": "[encoded data removed]",
      "text/plain": [
       "<Figure size 640x480 with 1 Axes>"
      ]
     },
     "metadata": {},
     "output_type": "display_data"
    }
   ],
   "source": [
    "plt.plot([0, 1], [0, 1], \"k--\", label = '50% AUC')"
   ]
  },
  {
   "cell_type": "code",
   "execution_count": 72,
   "id": "hundred-racing",
   "metadata": {},
   "outputs": [
    {
     "data": {
      "image/png": "[encoded data removed]",
      "text/plain": [
       "<Figure size 640x480 with 1 Axes>"
      ]
     },
     "metadata": {},
     "output_type": "display_data"
    }
   ],
   "source": [
    "plt.plot([0, 1], [0, 1], \"k--\", label = '50% AUC')\n",
    "plt.plot(fpr, tpr, label = \"Logistic Regression\")\n",
    "plt.xlabel(\"FPR\")\n",
    "plt.ylabel(\"TPR\")\n",
    "plt.title(\"ROC Curve - Logistic Regression\")\n",
    "plt.legend(loc = 0)\n",
    "plt.show()"
   ]
  },
  {
   "cell_type": "code",
   "execution_count": 73,
   "id": "western-prospect",
   "metadata": {},
   "outputs": [
    {
     "data": {
      "text/plain": [
       "0.9789608702402038"
      ]
     },
     "execution_count": 73,
     "metadata": {},
     "output_type": "execute_result"
    }
   ],
   "source": [
    "roc_auc_score(y_test_up,y_test_auc)"
   ]
  },
  {
   "cell_type": "markdown",
   "id": "olive-castle",
   "metadata": {},
   "source": [
    "### Testing Real Data "
   ]
  },
  {
   "cell_type": "code",
   "execution_count": 74,
   "id": "mineral-british",
   "metadata": {},
   "outputs": [],
   "source": [
    "a = ['free entry wkly comp win fa cup final tkts st may text fa receive entry question std txt rate c apply']\n",
    "a = Co.transform(a)\n",
    "a = a.toarray()"
   ]
  },
  {
   "cell_type": "code",
   "execution_count": 75,
   "id": "earlier-kenya",
   "metadata": {},
   "outputs": [
    {
     "data": {
      "text/plain": [
       "array([1])"
      ]
     },
     "execution_count": 75,
     "metadata": {},
     "output_type": "execute_result"
    }
   ],
   "source": [
    "lg.predict(a)"
   ]
  },
  {
   "cell_type": "code",
   "execution_count": 76,
   "id": "4726f64f",
   "metadata": {},
   "outputs": [],
   "source": [
    "b = [\"I'm gonna be home soon and i don't want to talk about this stuff anymore tonight, k? I've cried enough today.\"]\n",
    "b = Co.transform(b)\n",
    "b = b.toarray()"
   ]
  },
  {
   "cell_type": "code",
   "execution_count": 77,
   "id": "fd27b80a",
   "metadata": {},
   "outputs": [
    {
     "data": {
      "text/plain": [
       "array([0])"
      ]
     },
     "execution_count": 77,
     "metadata": {},
     "output_type": "execute_result"
    }
   ],
   "source": [
    "lg.predict(b)        "
   ]
  },
  {
   "cell_type": "code",
   "execution_count": 78,
   "id": "691c5c84",
   "metadata": {},
   "outputs": [],
   "source": [
    "# 0:ham, 1:spam"
   ]
  },
  {
   "cell_type": "markdown",
   "id": "documentary-entertainment",
   "metadata": {},
   "source": [
    "### Saving Data "
   ]
  },
  {
   "cell_type": "code",
   "execution_count": 79,
   "id": "abandoned-granny",
   "metadata": {},
   "outputs": [],
   "source": [
    "import pickle "
   ]
  },
  {
   "cell_type": "code",
   "execution_count": 80,
   "id": "challenging-westminster",
   "metadata": {},
   "outputs": [],
   "source": [
    "with open('count.pkl','wb') as f:\n",
    "    pickle.dump(Co,f)"
   ]
  },
  {
   "cell_type": "code",
   "execution_count": 81,
   "id": "external-gateway",
   "metadata": {},
   "outputs": [],
   "source": [
    "ch = pickle.load(open('count.pkl','rb'))"
   ]
  },
  {
   "cell_type": "code",
   "execution_count": 82,
   "id": "authentic-collar",
   "metadata": {},
   "outputs": [],
   "source": [
    "a = ['free entry wkly comp win fa cup final tkts st may text fa receive entry question std txt rate c apply']\n",
    "b = ch.transform(a)\n",
    "b = b.toarray()"
   ]
  },
  {
   "cell_type": "code",
   "execution_count": 83,
   "id": "immune-accommodation",
   "metadata": {},
   "outputs": [
    {
     "data": {
      "text/plain": [
       "array([1])"
      ]
     },
     "execution_count": 83,
     "metadata": {},
     "output_type": "execute_result"
    }
   ],
   "source": [
    "lg.predict(b)"
   ]
  },
  {
   "cell_type": "code",
   "execution_count": 84,
   "id": "powered-madrid",
   "metadata": {},
   "outputs": [],
   "source": [
    "with open('spam.pkl','wb') as p:\n",
    "    pickle.dump(lg,p)"
   ]
  },
  {
   "cell_type": "code",
   "execution_count": 85,
   "id": "suburban-macedonia",
   "metadata": {},
   "outputs": [],
   "source": [
    "sol = pickle.load(open('spam.pkl','rb'))\n"
   ]
  },
  {
   "cell_type": "code",
   "execution_count": 86,
   "id": "excellent-mention",
   "metadata": {},
   "outputs": [
    {
     "data": {
      "text/plain": [
       "array([1])"
      ]
     },
     "execution_count": 86,
     "metadata": {},
     "output_type": "execute_result"
    }
   ],
   "source": [
    "sol.predict(b)"
   ]
  },
  {
   "cell_type": "code",
   "execution_count": null,
   "id": "arabic-xerox",
   "metadata": {},
   "outputs": [],
   "source": []
  },
  {
   "cell_type": "code",
   "execution_count": 87,
   "id": "4840f3ee",
   "metadata": {},
   "outputs": [
    {
     "data": {
      "text/html": [
       "<div>\n",
       "<style scoped>\n",
       "    .dataframe tbody tr th:only-of-type {\n",
       "        vertical-align: middle;\n",
       "    }\n",
       "\n",
       "    .dataframe tbody tr th {\n",
       "        vertical-align: top;\n",
       "    }\n",
       "\n",
       "    .dataframe thead th {\n",
       "        text-align: right;\n",
       "    }\n",
       "</style>\n",
       "<table border=\"1\" class=\"dataframe\">\n",
       "  <thead>\n",
       "    <tr style=\"text-align: right;\">\n",
       "      <th></th>\n",
       "      <th>Actual</th>\n",
       "      <th>prediction</th>\n",
       "    </tr>\n",
       "  </thead>\n",
       "  <tbody>\n",
       "    <tr>\n",
       "      <th>0</th>\n",
       "      <td>0</td>\n",
       "      <td>0</td>\n",
       "    </tr>\n",
       "    <tr>\n",
       "      <th>1</th>\n",
       "      <td>0</td>\n",
       "      <td>0</td>\n",
       "    </tr>\n",
       "    <tr>\n",
       "      <th>2</th>\n",
       "      <td>1</td>\n",
       "      <td>1</td>\n",
       "    </tr>\n",
       "    <tr>\n",
       "      <th>3</th>\n",
       "      <td>0</td>\n",
       "      <td>0</td>\n",
       "    </tr>\n",
       "    <tr>\n",
       "      <th>4</th>\n",
       "      <td>1</td>\n",
       "      <td>1</td>\n",
       "    </tr>\n",
       "    <tr>\n",
       "      <th>...</th>\n",
       "      <td>...</td>\n",
       "      <td>...</td>\n",
       "    </tr>\n",
       "    <tr>\n",
       "      <th>3169</th>\n",
       "      <td>1</td>\n",
       "      <td>1</td>\n",
       "    </tr>\n",
       "    <tr>\n",
       "      <th>3170</th>\n",
       "      <td>1</td>\n",
       "      <td>1</td>\n",
       "    </tr>\n",
       "    <tr>\n",
       "      <th>3171</th>\n",
       "      <td>1</td>\n",
       "      <td>1</td>\n",
       "    </tr>\n",
       "    <tr>\n",
       "      <th>3172</th>\n",
       "      <td>1</td>\n",
       "      <td>1</td>\n",
       "    </tr>\n",
       "    <tr>\n",
       "      <th>3173</th>\n",
       "      <td>1</td>\n",
       "      <td>1</td>\n",
       "    </tr>\n",
       "  </tbody>\n",
       "</table>\n",
       "<p>3174 rows × 2 columns</p>\n",
       "</div>"
      ],
      "text/plain": [
       "      Actual  prediction\n",
       "0          0           0\n",
       "1          0           0\n",
       "2          1           1\n",
       "3          0           0\n",
       "4          1           1\n",
       "...      ...         ...\n",
       "3169       1           1\n",
       "3170       1           1\n",
       "3171       1           1\n",
       "3172       1           1\n",
       "3173       1           1\n",
       "\n",
       "[3174 rows x 2 columns]"
      ]
     },
     "execution_count": 87,
     "metadata": {},
     "output_type": "execute_result"
    }
   ],
   "source": [
    "res = pd.DataFrame({'Actual':y_test_up, 'prediction':y_test_up_pred})\n",
    "res"
   ]
  },
  {
   "cell_type": "code",
   "execution_count": null,
   "id": "4d523772",
   "metadata": {},
   "outputs": [],
   "source": []
  }
 ],
 "metadata": {
  "kernelspec": {
   "display_name": "Python 3 (ipykernel)",
   "language": "python",
   "name": "python3"
  },
  "language_info": {
   "codemirror_mode": {
    "name": "ipython",
    "version": 3
   },
   "file_extension": ".py",
   "mimetype": "text/x-python",
   "name": "python",
   "nbconvert_exporter": "python",
   "pygments_lexer": "ipython3",
   "version": "3.10.9"
  }
 },
 "nbformat": 4,
 "nbformat_minor": 5
}
